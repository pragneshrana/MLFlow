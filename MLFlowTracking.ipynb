{
  "nbformat": 4,
  "nbformat_minor": 0,
  "metadata": {
    "colab": {
      "provenance": [],
      "authorship_tag": "ABX9TyMRYZ9V9luAxXJ596Jjzbqp",
      "include_colab_link": true
    },
    "kernelspec": {
      "name": "python3",
      "display_name": "Python 3"
    },
    "language_info": {
      "name": "python"
    }
  },
  "cells": [
    {
      "cell_type": "markdown",
      "metadata": {
        "id": "view-in-github",
        "colab_type": "text"
      },
      "source": [
        "<a href=\"https://colab.research.google.com/github/pragneshrana/MLFlow/blob/main/MLFlowTracking.ipynb\" target=\"_parent\"><img src=\"https://colab.research.google.com/assets/colab-badge.svg\" alt=\"Open In Colab\"/></a>"
      ]
    },
    {
      "cell_type": "code",
      "source": [
        "!pip install mlflow --quiet\n",
        "!pip install pyngrok --quiet\n"
      ],
      "metadata": {
        "id": "5goh9xNgG1Yn",
        "colab": {
          "base_uri": "https://localhost:8080/"
        },
        "outputId": "d81f3ca6-33fc-4c42-efa3-738782f91258"
      },
      "execution_count": 1,
      "outputs": [
        {
          "output_type": "stream",
          "name": "stdout",
          "text": [
            "\u001b[2K     \u001b[90m━━━━━━━━━━━━━━━━━━━━━━━━━━━━━━━━━━━━━━━━\u001b[0m \u001b[32m19.7/19.7 MB\u001b[0m \u001b[31m31.7 MB/s\u001b[0m eta \u001b[36m0:00:00\u001b[0m\n",
            "\u001b[2K     \u001b[90m━━━━━━━━━━━━━━━━━━━━━━━━━━━━━━━━━━━━━━━━\u001b[0m \u001b[32m195.4/195.4 kB\u001b[0m \u001b[31m19.1 MB/s\u001b[0m eta \u001b[36m0:00:00\u001b[0m\n",
            "\u001b[2K     \u001b[90m━━━━━━━━━━━━━━━━━━━━━━━━━━━━━━━━━━━━━━━━\u001b[0m \u001b[32m53.0/53.0 kB\u001b[0m \u001b[31m5.1 MB/s\u001b[0m eta \u001b[36m0:00:00\u001b[0m\n",
            "\u001b[2K     \u001b[90m━━━━━━━━━━━━━━━━━━━━━━━━━━━━━━━━━━━━━━━━\u001b[0m \u001b[32m233.4/233.4 kB\u001b[0m \u001b[31m19.3 MB/s\u001b[0m eta \u001b[36m0:00:00\u001b[0m\n",
            "\u001b[2K     \u001b[90m━━━━━━━━━━━━━━━━━━━━━━━━━━━━━━━━━━━━━━━━\u001b[0m \u001b[32m147.6/147.6 kB\u001b[0m \u001b[31m14.7 MB/s\u001b[0m eta \u001b[36m0:00:00\u001b[0m\n",
            "\u001b[2K     \u001b[90m━━━━━━━━━━━━━━━━━━━━━━━━━━━━━━━━━━━━━━━━\u001b[0m \u001b[32m128.2/128.2 kB\u001b[0m \u001b[31m11.9 MB/s\u001b[0m eta \u001b[36m0:00:00\u001b[0m\n",
            "\u001b[2K     \u001b[90m━━━━━━━━━━━━━━━━━━━━━━━━━━━━━━━━━━━━━━━━\u001b[0m \u001b[32m80.2/80.2 kB\u001b[0m \u001b[31m8.3 MB/s\u001b[0m eta \u001b[36m0:00:00\u001b[0m\n",
            "\u001b[2K     \u001b[90m━━━━━━━━━━━━━━━━━━━━━━━━━━━━━━━━━━━━━━━━\u001b[0m \u001b[32m78.7/78.7 kB\u001b[0m \u001b[31m8.2 MB/s\u001b[0m eta \u001b[36m0:00:00\u001b[0m\n",
            "\u001b[2K     \u001b[90m━━━━━━━━━━━━━━━━━━━━━━━━━━━━━━━━━━━━━━━━\u001b[0m \u001b[32m62.7/62.7 kB\u001b[0m \u001b[31m7.0 MB/s\u001b[0m eta \u001b[36m0:00:00\u001b[0m\n",
            "\u001b[2K     \u001b[90m━━━━━━━━━━━━━━━━━━━━━━━━━━━━━━━━━━━━━━━━\u001b[0m \u001b[32m202.9/202.9 kB\u001b[0m \u001b[31m20.2 MB/s\u001b[0m eta \u001b[36m0:00:00\u001b[0m\n",
            "\u001b[2K     \u001b[90m━━━━━━━━━━━━━━━━━━━━━━━━━━━━━━━━━━━━━━━━\u001b[0m \u001b[32m52.8/52.8 kB\u001b[0m \u001b[31m5.7 MB/s\u001b[0m eta \u001b[36m0:00:00\u001b[0m\n",
            "\u001b[?25h"
          ]
        }
      ]
    },
    {
      "cell_type": "code",
      "source": [
        "import warnings\n",
        "import argparse\n",
        "import logging\n",
        "import pandas as pd\n",
        "import numpy as np\n",
        "from sklearn.metrics import mean_squared_error, mean_absolute_error, r2_score\n",
        "from sklearn.model_selection import train_test_split\n",
        "from sklearn.linear_model import ElasticNet\n",
        "import mlflow\n",
        "import mlflow.sklearn\n",
        "from pathlib import Path\n",
        "import os\n",
        "\n",
        "os.mkdir(\"data/\") #directory to store the data :train, test,\n",
        "\n",
        "logging.basicConfig(level=logging.WARN)\n",
        "logger = logging.getLogger(__name__)\n",
        "\n",
        "# # get arguments from command\n",
        "# parser = argparse.ArgumentParser()\n",
        "# parser.add_argument(\"--alpha\", type=float, required=False, default=0.7)\n",
        "# parser.add_argument(\"--l1_ratio\", type=float, required=False, default=0.7)\n",
        "# args = parser.parse_args()\n",
        "\n",
        "\n",
        "\n",
        "\n"
      ],
      "metadata": {
        "id": "xnTMZ0KBpQ6-"
      },
      "execution_count": 2,
      "outputs": []
    },
    {
      "cell_type": "code",
      "source": [
        "# evaluation function\n",
        "def eval_metrics(actual, pred):\n",
        "    rmse = np.sqrt(mean_squared_error(actual, pred))\n",
        "    mae = mean_absolute_error(actual, pred)\n",
        "    r2 = r2_score(actual, pred)\n",
        "    return rmse, mae, r2\n",
        "\n",
        "\n"
      ],
      "metadata": {
        "id": "S4busADgivmw"
      },
      "execution_count": 3,
      "outputs": []
    },
    {
      "cell_type": "code",
      "source": [
        "warnings.filterwarnings(\"ignore\")\n",
        "np.random.seed(40)\n",
        "\n",
        "# Read the wine-quality csv file from local\n",
        "path = 'https://raw.githubusercontent.com/aniruddhachoudhury/Red-Wine-Quality/master/winequality-red.csv'\n",
        "data = pd.read_csv(path)\n"
      ],
      "metadata": {
        "id": "esvOyp4givUq"
      },
      "execution_count": 4,
      "outputs": []
    },
    {
      "cell_type": "code",
      "source": [
        "# Split the data into training and test sets. (0.75, 0.25) split.\n",
        "train, test = train_test_split(data)\n",
        "\n",
        "# Split the data into training and test sets. (0.75, 0.25) split.\n",
        "train, test = train_test_split(data)\n",
        "train.to_csv(\"data/train.csv\")\n",
        "test.to_csv(\"data/test.csv\")\n",
        "\n",
        "# The predicted column is \"quality\" which is a scalar from [3, 9]\n",
        "train_x = train.drop([\"quality\"], axis=1)\n",
        "test_x = test.drop([\"quality\"], axis=1)\n",
        "train_y = train[[\"quality\"]]\n",
        "test_y = test[[\"quality\"]]"
      ],
      "metadata": {
        "id": "Mpea_gEbjkmA"
      },
      "execution_count": 5,
      "outputs": []
    },
    {
      "cell_type": "code",
      "source": [
        "# alpha = args.alpha\n",
        "# l1_ratio = args.l1_ratio\n",
        "\n",
        "alpha = 0.9\n",
        "l1_ratio = 0.25\n",
        "\n"
      ],
      "metadata": {
        "id": "-16Su7xRk7Ro"
      },
      "execution_count": 14,
      "outputs": []
    },
    {
      "cell_type": "code",
      "source": [
        "mlflow.set_tracking_uri(uri=\"\")\n",
        "\n",
        "print(\"The set tracking uri is \", mlflow.get_tracking_uri())\n",
        "\n",
        "# Setting experiment ids -- Setting or creating experiment\n",
        "exp = mlflow.set_experiment(experiment_name=\"experiment_2\")\n",
        "#get_exp = mlflow.get_experiment(exp_id)\n",
        "\n",
        "print(\"Name: {}\".format(exp.name))\n",
        "print(\"Experiment_id: {}\".format(exp.experiment_id))\n",
        "print(\"Artifact Location: {}\".format(exp.artifact_location))\n",
        "print(\"Tags: {}\".format(exp.tags))\n",
        "print(\"Lifecycle_stage: {}\".format(exp.lifecycle_stage))\n",
        "print(\"Creation timestamp: {}\".format(exp.creation_time))\n",
        "\n"
      ],
      "metadata": {
        "colab": {
          "base_uri": "https://localhost:8080/"
        },
        "id": "NdLCI-Mfc4_0",
        "outputId": "550a1566-c4aa-44b5-8f8a-7a1f66e7d87d"
      },
      "execution_count": 15,
      "outputs": [
        {
          "output_type": "stream",
          "name": "stdout",
          "text": [
            "The set tracking uri is  \n",
            "Name: experiment_2\n",
            "Experiment_id: 434872774018137272\n",
            "Artifact Location: file:///content/mlruns/434872774018137272\n",
            "Tags: {}\n",
            "Lifecycle_stage: active\n",
            "Creation timestamp: 1710483524887\n"
          ]
        }
      ]
    },
    {
      "cell_type": "code",
      "source": [
        "#Started tracking here\n",
        "mlflow.start_run()\n",
        "\n",
        "#training model\n",
        "lr = ElasticNet(alpha=alpha, l1_ratio=l1_ratio, random_state=42)\n",
        "lr.fit(train_x, train_y)\n",
        "\n",
        "predicted_qualities = lr.predict(test_x)\n",
        "\n",
        "(rmse, mae, r2) = eval_metrics(test_y, predicted_qualities)\n",
        "\n",
        "print(\"Elasticnet model (alpha={:f}, l1_ratio={:f}):\".format(alpha, l1_ratio))\n",
        "print(\"  RMSE: %s\" % rmse)\n",
        "print(\"  MAE: %s\" % mae)\n",
        "print(\"  R2: %s\" % r2)\n",
        "\n",
        "#logging parameters\n",
        "params ={\n",
        "    \"alpha\": alpha,\n",
        "    \"l1_ratio\": l1_ratio\n",
        "}\n",
        "mlflow.log_params(params)\n",
        "\n",
        "#logging metrics\n",
        "metrics = {\n",
        "    \"rmse\":rmse,\n",
        "    \"r2\":r2,\n",
        "    \"mae\":mae\n",
        "}\n",
        "mlflow.log_metrics(metrics)\n",
        "\n",
        "#logging model\n",
        "mlflow.sklearn.log_model(lr, \"my_new_model_1\")\n",
        "\n",
        "#logging artifcats, here store files in data\n",
        "mlflow.log_artifacts(\"data/\")\n",
        "\n",
        "#\n",
        "artifacts_uri=mlflow.get_artifact_uri()\n",
        "print(\"The artifact path is\",artifacts_uri )\n",
        "\n",
        "mlflow.end_run() #ended tracking\n",
        "\n",
        "#Getting last run details\n",
        "run = mlflow.last_active_run()\n",
        "print(\"Active run id is {}\".format(run.info.run_id))\n",
        "print(\"Active run name is {}\".format(run.info.run_name))"
      ],
      "metadata": {
        "id": "XofuneIGlSH5",
        "colab": {
          "base_uri": "https://localhost:8080/"
        },
        "outputId": "267fa660-f39e-4df8-af79-4ce34d7ab382"
      },
      "execution_count": 16,
      "outputs": [
        {
          "output_type": "stream",
          "name": "stdout",
          "text": [
            "Elasticnet model (alpha=0.900000, l1_ratio=0.250000):\n",
            "  RMSE: 0.7005290242726819\n",
            "  MAE: 0.5807136894841896\n",
            "  R2: 0.15111414314403093\n",
            "The artifact path is file:///content/mlruns/434872774018137272/d4b47512b28a43c3adad8fd09b832dd4/artifacts\n",
            "Active run id is d4b47512b28a43c3adad8fd09b832dd4\n",
            "Active run name is puzzled-frog-56\n"
          ]
        }
      ]
    },
    {
      "cell_type": "markdown",
      "source": [
        "### Setting up UI for visulization"
      ],
      "metadata": {
        "id": "HhcE_G0ku-xt"
      }
    },
    {
      "cell_type": "code",
      "source": [
        "\n",
        "# run tracking UI in the background\n",
        "get_ipython().system_raw(\"mlflow ui --port 5000 &\") # run tracking UI in the background\n",
        "\n",
        "\n",
        "from pyngrok import ngrok\n",
        "\n",
        "# Terminate open tunnels if exist\n",
        "ngrok.kill()\n",
        "\n",
        "# Setting the authtoken (optional)\n",
        "# Get your authtoken from https://dashboard.ngrok.com/auth\n",
        "NGROK_AUTH_TOKEN = \"2deDLSIvhkTLbHJffktozxuBO7k_3GfgePGB97h6NN946iyWF\"\n",
        "ngrok.set_auth_token(NGROK_AUTH_TOKEN)\n",
        "\n",
        "# Open an HTTPs tunnel on port 5000 for http://localhost:5000\n",
        "ngrok_tunnel = ngrok.connect(addr=\"5000\", proto=\"http\", bind_tls=True)\n",
        "print(\"MLflow Tracking UI:\", ngrok_tunnel.public_url)"
      ],
      "metadata": {
        "colab": {
          "base_uri": "https://localhost:8080/"
        },
        "id": "TGqyjBHVrOtX",
        "outputId": "cdc5ba70-134a-4f1c-d7ad-7e12c62d60dc"
      },
      "execution_count": 17,
      "outputs": [
        {
          "output_type": "stream",
          "name": "stdout",
          "text": [
            "MLflow Tracking UI: https://8b8c-34-133-98-51.ngrok-free.app\n"
          ]
        }
      ]
    },
    {
      "cell_type": "markdown",
      "source": [
        "\n",
        "```\n",
        "set_tracking_uri() : Set the tracking uri of choices for the current run\n",
        "get_tracking_uri() : Get the tracking uri\n",
        "\n",
        "create_experiment() :  create a fresh new experiment\n",
        "set_experiment() : set already created experiment -- if create does not exist then set will work as create\n",
        "\n",
        "## Loggign Function\n",
        "start_run() :  Starts a new MLflow run under which all the entities will be logged\n",
        "end_run() : end the active run\n",
        "active_run() : Returns the run which is active now\n",
        "last_active_run() : Gets the most recent active run\n",
        "\n",
        "mlflow.log_param(s) : log hyper-parameter as key-value pair\n",
        "mlflow.log_metric(s) : log metric as key-value pair\n",
        "mlflow.log_artifact(s) : log directory/files\n",
        "mlflow.get_artifacts_uri(s) : Get abosulte uri of the specified artifactsin the currently active run\n",
        "\n",
        "mlflow.set_tag(s): set tag(s) under the current run\n",
        "\n",
        "```"
      ],
      "metadata": {
        "id": "A0T97-fS_HQS"
      }
    },
    {
      "cell_type": "markdown",
      "source": [
        "### System tags\n",
        "\n"
      ],
      "metadata": {
        "id": "bAq6CJ99ttYB"
      }
    }
  ]
}